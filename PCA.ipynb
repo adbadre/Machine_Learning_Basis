{
 "cells": [
  {
   "cell_type": "markdown",
   "metadata": {},
   "source": [
    "PCA"
   ]
  },
  {
   "cell_type": "code",
   "execution_count": 1,
   "metadata": {},
   "outputs": [],
   "source": [
    "import numpy as np\n",
    "import matplotlib.pyplot as plt"
   ]
  },
  {
   "cell_type": "code",
   "execution_count": 2,
   "metadata": {},
   "outputs": [
    {
     "name": "stdout",
     "output_type": "stream",
     "text": [
      "(1000, 2) (1000, 1)\n"
     ]
    }
   ],
   "source": [
    "x=np.random.normal([0,1], [0.1,0.5], (1000,2))\n",
    "y=np.array([2*x[:,0]+3*x[:,1]+5]).T\n",
    "print(x.shape,y.shape)"
   ]
  },
  {
   "cell_type": "code",
   "execution_count": 3,
   "metadata": {},
   "outputs": [
    {
     "data": {
      "image/png": "[encoded data removed]",
      "text/plain": [
       "<Figure size 360x360 with 1 Axes>"
      ]
     },
     "metadata": {},
     "output_type": "display_data"
    },
    {
     "data": {
      "image/png": "[encoded data removed]",
      "text/plain": [
       "<Figure size 360x360 with 1 Axes>"
      ]
     },
     "metadata": {},
     "output_type": "display_data"
    }
   ],
   "source": [
    "##Plot the data \n",
    "i=0\n",
    "for col in x.T:\n",
    "    fig,ax=plt.subplots(figsize = (5,5))\n",
    "    ax.hist(col)\n",
    "    i=i+1"
   ]
  },
  {
   "cell_type": "code",
   "execution_count": 8,
   "metadata": {},
   "outputs": [
    {
     "name": "stdout",
     "output_type": "stream",
     "text": [
      "(2,)\n"
     ]
    }
   ],
   "source": [
    "#Scale Xi around the mean\n",
    "mean=np.mean(x,axis=0)\n",
    "xm=x-mean"
   ]
  },
  {
   "cell_type": "code",
   "execution_count": 20,
   "metadata": {},
   "outputs": [
    {
     "name": "stdout",
     "output_type": "stream",
     "text": [
      "[[ 0.01056507 -0.00251192]\n",
      " [-0.00251192  0.26813367]]\n"
     ]
    }
   ],
   "source": [
    "#Compute the covarience matrix\n",
    "covariance=np.cov(xm.T)\n",
    "print(covariance)"
   ]
  },
  {
   "cell_type": "code",
   "execution_count": 30,
   "metadata": {},
   "outputs": [
    {
     "name": "stdout",
     "output_type": "stream",
     "text": [
      "Eigen Values/ principal components:\n",
      " [0.01054057 0.26815816] \n",
      " Eigen vectors associated to each Eigen Values/projected data:\n",
      " [[-0.99995246  0.00975103]\n",
      " [-0.00975103 -0.99995246]]\n"
     ]
    }
   ],
   "source": [
    "#Compute the eigenvalues of the covarience matrix\n",
    "values,vectors=np.linalg.eig(covariance)\n",
    "\n",
    "print(\"Eigen Values/ principal components:\\n\",values,\"\\n Eigen vectors associated to each Eigen Values/projection space:\\n\",vectors)"
   ]
  },
  {
   "cell_type": "code",
   "execution_count": 28,
   "metadata": {},
   "outputs": [
    {
     "name": "stdout",
     "output_type": "stream",
     "text": [
      "[[-1.05400735e-02 -1.02781444e-04]\n",
      " [ 2.61481788e-03 -2.68145411e-01]]\n"
     ]
    }
   ],
   "source": [
    "# explained variance\n",
    "explained_variance = vectors.T.dot(covariance.T)\n",
    "print(explained_variance)"
   ]
  },
  {
   "cell_type": "code",
   "execution_count": null,
   "metadata": {},
   "outputs": [],
   "source": []
  }
 ],
 "metadata": {
  "kernelspec": {
   "display_name": "Python 3",
   "language": "python",
   "name": "python3"
  },
  "language_info": {
   "codemirror_mode": {
    "name": "ipython",
    "version": 3
   },
   "file_extension": ".py",
   "mimetype": "text/x-python",
   "name": "python",
   "nbconvert_exporter": "python",
   "pygments_lexer": "ipython3",
   "version": "3.6.5"
  }
 },
 "nbformat": 4,
 "nbformat_minor": 2
}
