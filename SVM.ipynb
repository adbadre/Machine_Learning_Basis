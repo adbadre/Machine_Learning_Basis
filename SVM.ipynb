{
 "cells": [
  {
   "cell_type": "markdown",
   "metadata": {},
   "source": [
    "SVM"
   ]
  },
  {
   "cell_type": "code",
   "execution_count": 1,
   "metadata": {},
   "outputs": [],
   "source": [
    "import numpy as np\n",
    "import matplotlib.pyplot as plt"
   ]
  },
  {
   "cell_type": "code",
   "execution_count": 211,
   "metadata": {},
   "outputs": [
    {
     "name": "stdout",
     "output_type": "stream",
     "text": [
      "(6, 2) (6, 1)\n"
     ]
    }
   ],
   "source": [
    "##Create fake data where y=5+2*x1+3*x2\n",
    "x=np.array([[1,7],[2,8],[3,8],[5,1],[6,-1],[7,3]])\n",
    "y=np.array([[1,1,1,-1,-1,-1]]).T\n",
    "print(x.shape,y.shape)"
   ]
  },
  {
   "cell_type": "code",
   "execution_count": 212,
   "metadata": {},
   "outputs": [
    {
     "data": {
      "text/plain": [
       "(array([3., 0., 0., 0., 0., 0., 0., 0., 0., 3.]),\n",
       " array([-1. , -0.8, -0.6, -0.4, -0.2,  0. ,  0.2,  0.4,  0.6,  0.8,  1. ]),\n",
       " <a list of 10 Patch objects>)"
      ]
     },
     "execution_count": 212,
     "metadata": {},
     "output_type": "execute_result"
    },
    {
     "data": {
      "image/png": "[encoded data removed]",
      "text/plain": [
       "<Figure size 360x360 with 1 Axes>"
      ]
     },
     "metadata": {},
     "output_type": "display_data"
    },
    {
     "data": {
      "image/png": "[encoded data removed]",
      "text/plain": [
       "<Figure size 360x360 with 1 Axes>"
      ]
     },
     "metadata": {},
     "output_type": "display_data"
    },
    {
     "data": {
      "image/png": "[encoded data removed]",
      "text/plain": [
       "<Figure size 360x360 with 1 Axes>"
      ]
     },
     "metadata": {},
     "output_type": "display_data"
    }
   ],
   "source": [
    "##Plot the data \n",
    "i=0\n",
    "fig,ax=plt.subplots(figsize = (5,5))\n",
    "ax.hist(x[:,0])\n",
    "fig,ax=plt.subplots(figsize = (5,5))\n",
    "ax.hist(x[:,1])\n",
    "fig,ax=plt.subplots(figsize = (5,5))\n",
    "ax.hist(y)"
   ]
  },
  {
   "cell_type": "code",
   "execution_count": 223,
   "metadata": {},
   "outputs": [],
   "source": [
    "#Possible Transformations\n",
    "transforms=[[1,1],[-1,1],[-1,-1],[1,-1]]\n",
    "#Initialize the convex optimisation \n",
    "max_feature_value=np.amax(x)\n",
    "min_feature_value=np.amin(x)\n",
    "opt_dic={}\n",
    "w_learning_rate=max_feature_value*0.001\n",
    "b_range=5\n",
    "b_learning_rate=5\n",
    "latest_optimum=max_feature_value*0.1\n",
    "w=np.array([latest_optimum,latest_optimum])\n",
    "finish=False\n",
    "# Heuristic\n",
    "while not finish:\n",
    "    for b in np.arange(-1*max_feature_value*b_range,max_feature_value*b_range,step*b_learning_rate):\n",
    "        #Try all the possible transformation\n",
    "        for transfo in transforms:\n",
    "            #w next is actually the weigths can match with transfo the constraint. \n",
    "            w_next=w*transfo\n",
    "            classified=True\n",
    "            #Try to see which data is where, based on the weights \n",
    "            for feature in x.T:\n",
    "                for i in range(6):\n",
    "                    yi=y[i,0]\n",
    "                    #We want to satisfy the constraint y(w*x+b)>=1\n",
    "                    if not yi*(np.dot(np.array([w_next]),x[i,:])+b)>=1:\n",
    "                        classified=False\n",
    "            #If the constraint is satisfied, then the solution proposed is an eligible solution\n",
    "            if classified is True:\n",
    "                opt_dic[np.linalg.norm(w_next)]=[w_next,b]\n",
    "    # We stop if w_propose <0 because if you look at the transformation , \n",
    "    # we would do the same thing but in opposite direction. Yhus it is useless to go further\n",
    "    # otherwhise we update w with \n",
    "    if w[0]<0:\n",
    "        finish=True\n",
    "    else:\n",
    "        w=w-w_learning_rate\n",
    "norms=sorted([n for n in opt_dic])\n",
    "# we want to satisfy the objectibe function : min of ||w||\n",
    "opt_choice = opt_dic[norms[0]]\n",
    "w_final=opt_choice[0]\n",
    "b_final=opt_choice[1]\n",
    "latest_optimum=opt_choice[0][0]+step*2\n",
    "classification = np.sign(np.dot(np.array(x),w_final)+b_final)"
   ]
  },
  {
   "cell_type": "code",
   "execution_count": 224,
   "metadata": {},
   "outputs": [
    {
     "name": "stdout",
     "output_type": "stream",
     "text": [
      "[ 1.  1.  1. -1. -1. -1.]\n"
     ]
    }
   ],
   "source": [
    "print(classification)"
   ]
  },
  {
   "cell_type": "code",
   "execution_count": 225,
   "metadata": {},
   "outputs": [
    {
     "name": "stdout",
     "output_type": "stream",
     "text": [
      "Accuracy: 1.0 %\n"
     ]
    }
   ],
   "source": [
    "accuracy=(classification==y[:,0]).sum()/len(y)\n",
    "print(\"Accuracy:\",accuracy,\"%\")"
   ]
  },
  {
   "cell_type": "code",
   "execution_count": 226,
   "metadata": {},
   "outputs": [],
   "source": [
    "predict=np.dot(np.array(x),w_final)+b_final"
   ]
  },
  {
   "cell_type": "code",
   "execution_count": 227,
   "metadata": {},
   "outputs": [
    {
     "name": "stdout",
     "output_type": "stream",
     "text": [
      "[ 1.536  1.536  1.28  -1.024 -1.792 -1.024]\n"
     ]
    }
   ],
   "source": [
    "print(predict)"
   ]
  },
  {
   "cell_type": "code",
   "execution_count": 169,
   "metadata": {},
   "outputs": [],
   "source": []
  },
  {
   "cell_type": "code",
   "execution_count": 170,
   "metadata": {},
   "outputs": [],
   "source": []
  },
  {
   "cell_type": "code",
   "execution_count": null,
   "metadata": {},
   "outputs": [],
   "source": []
  },
  {
   "cell_type": "code",
   "execution_count": null,
   "metadata": {},
   "outputs": [],
   "source": []
  }
 ],
 "metadata": {
  "kernelspec": {
   "display_name": "Python 3",
   "language": "python",
   "name": "python3"
  },
  "language_info": {
   "codemirror_mode": {
    "name": "ipython",
    "version": 3
   },
   "file_extension": ".py",
   "mimetype": "text/x-python",
   "name": "python",
   "nbconvert_exporter": "python",
   "pygments_lexer": "ipython3",
   "version": "3.6.5"
  }
 },
 "nbformat": 4,
 "nbformat_minor": 2
}
